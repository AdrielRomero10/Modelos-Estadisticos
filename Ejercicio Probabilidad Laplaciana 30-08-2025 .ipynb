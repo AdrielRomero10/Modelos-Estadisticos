{
  "metadata": {
    "kernelspec": {
      "name": "python",
      "display_name": "Python (Pyodide)",
      "language": "python"
    },
    "language_info": {
      "codemirror_mode": {
        "name": "python",
        "version": 3
      },
      "file_extension": ".py",
      "mimetype": "text/x-python",
      "name": "python",
      "nbconvert_exporter": "python",
      "pygments_lexer": "ipython3",
      "version": "3.8"
    }
  },
  "nbformat_minor": 5,
  "nbformat": 4,
  "cells": [
    {
      "id": "8a43df32-8d8d-403c-8ff6-c4a07dcf0a06",
      "cell_type": "markdown",
      "source": "## Equipo Sala 8\n\n### Integrantes\n-\tAlarcón Estrada Rodrigo German.\n-\tRomero Cervantes Lizeth Adriel.\n-\tRavelo Buitrón Sofía\n\n",
      "metadata": {}
    },
    {
      "id": "794b25ba-2b1d-4f6e-bedd-69314bee1a0c",
      "cell_type": "markdown",
      "source": "# Probabilidad Laplaciana",
      "metadata": {}
    },
    {
      "id": "43d5044d-767e-4c76-baa3-a2b40e46164a",
      "cell_type": "markdown",
      "source": "Para un experimento aleatorio, se tiene que $\\Omega$ es el espacio muestral.\n\nSea $A$ un evento, entonces\n\n$$ \\mathbb{P}(A) = \\frac{|A|}{|\\Omega|} $$\n\n**Ejemplo** Sea el experimento aleatorio de lanzar una moneda 3 veces, de manera independiente, es decir, el $i$-ésimo lanzamiento no me afecta al $i+1$ lanzamiento. El espacio muestral de este experimento es:\n$$ \\Omega = \\{ A,S \\} \\times \\{ A,S \\} \\times \\{ A,S \\}  = \\{ A,S \\}^3$$\n\n$$ (S,S,S),(S,A,S)$$\n \n\ny se tiene que $|\\Omega| = 2^{3}$.\n\nSean los eventos:\n- $A$: todos los resultados son águila\n- $S$: todos los resultados son soles\n- $E$: por lo menos un resultado es sol\n\nCalcular las probabilidades de $A$, $S$ y $E$.\n\n**Solución** Para $A$, vamos a descomponer al conjunto de la siguiente manera: $A = A_1 \\cap A_2 \\cap A_3$ donde $A_{i}:$ cae águila en el i-esimo coordenada.",
      "metadata": {}
    },
    {
      "id": "18fca666-8f1e-46b1-8e1f-bad582790759",
      "cell_type": "code",
      "source": "# Vamos a crear el espacio muestral\n\n# Importamos el modulo \nimport itertools\nfrom itertools import product",
      "metadata": {},
      "outputs": [],
      "execution_count": 28
    },
    {
      "id": "29f1d2a9-86d0-4ea9-8469-578c5d576cc0",
      "cell_type": "code",
      "source": "Omega = set(product({\"A\",\"S\"}, repeat=3))\n# product -> genera todas las tuplas de longitud 3\n# set -> lo convierte en conjunto\nOmega",
      "metadata": {},
      "outputs": [
        {
          "data": {
            "text/plain": [
              "{('A', 'A', 'A'),\n",
              " ('A', 'A', 'S'),\n",
              " ('A', 'S', 'A'),\n",
              " ('A', 'S', 'S'),\n",
              " ('S', 'A', 'A'),\n",
              " ('S', 'A', 'S'),\n",
              " ('S', 'S', 'A'),\n",
              " ('S', 'S', 'S')}"
            ]
          },
          "execution_count": 29,
          "metadata": {},
          "output_type": "execute_result"
        }
      ],
      "execution_count": 29
    },
    {
      "id": "1453aa41-7fa5-4ddb-b667-dfda6c5c4b5b",
      "cell_type": "code",
      "source": "# La cardinalidad de Omega es:\nlen(Omega)",
      "metadata": {},
      "outputs": [
        {
          "data": {
            "text/plain": [
              "8"
            ]
          },
          "execution_count": 30,
          "metadata": {},
          "output_type": "execute_result"
        }
      ],
      "execution_count": 30
    },
    {
      "id": "3edc6f94-8a8a-4585-9b86-f581e3345b5a",
      "cell_type": "code",
      "source": "# Vamos a crear el evento A1\nA_1 = {om for om in Omega if om[0]==\"A\"} \nA_1",
      "metadata": {},
      "outputs": [
        {
          "data": {
            "text/plain": [
              "{('A', 'A', 'A'), ('A', 'A', 'S'), ('A', 'S', 'A'), ('A', 'S', 'S')}"
            ]
          },
          "execution_count": 31,
          "metadata": {},
          "output_type": "execute_result"
        }
      ],
      "execution_count": 31
    },
    {
      "id": "7e7e8ce0-fec0-4e5c-baec-2bfec0784fb4",
      "cell_type": "code",
      "source": "# Vamos a crear el evento A_2\nA_2 = {om for om in Omega if om[1]==\"A\"} \nA_2",
      "metadata": {},
      "outputs": [
        {
          "data": {
            "text/plain": [
              "{('A', 'A', 'A'), ('A', 'A', 'S'), ('S', 'A', 'A'), ('S', 'A', 'S')}"
            ]
          },
          "execution_count": 32,
          "metadata": {},
          "output_type": "execute_result"
        }
      ],
      "execution_count": 32
    },
    {
      "id": "ce918e75-cac2-4b65-87e3-68341d4e39e7",
      "cell_type": "code",
      "source": "# Vamos a crear el evento A_2\nA_3 = {om for om in Omega if om[2]==\"A\"} \nA_3",
      "metadata": {},
      "outputs": [
        {
          "data": {
            "text/plain": [
              "{('A', 'A', 'A'), ('A', 'S', 'A'), ('S', 'A', 'A'), ('S', 'S', 'A')}"
            ]
          },
          "execution_count": 33,
          "metadata": {},
          "output_type": "execute_result"
        }
      ],
      "execution_count": 33
    },
    {
      "id": "dcb06663-2327-401c-b50e-14457cbb0787",
      "cell_type": "code",
      "source": "# Vamos a crear el evento A\nA = A_1.intersection(A_2.intersection(A_3))  #A1\\cap(A_2 \\cap A_3)\nA",
      "metadata": {},
      "outputs": [
        {
          "data": {
            "text/plain": [
              "{('A', 'A', 'A')}"
            ]
          },
          "execution_count": 34,
          "metadata": {},
          "output_type": "execute_result"
        }
      ],
      "execution_count": 34
    },
    {
      "id": "6ea97eb6-2a28-4f0b-95c3-ce23b2468fef",
      "cell_type": "code",
      "source": "card_A = len(A)",
      "metadata": {},
      "outputs": [],
      "execution_count": 35
    },
    {
      "id": "b7155069-bc9d-4aa1-b81f-8d88039ce9ac",
      "cell_type": "code",
      "source": "# Calculamos la probabilidad \nP_A = card_A / len(Omega)\nP_A",
      "metadata": {},
      "outputs": [
        {
          "data": {
            "text/plain": [
              "0.125"
            ]
          },
          "execution_count": 36,
          "metadata": {},
          "output_type": "execute_result"
        }
      ],
      "execution_count": 36
    },
    {
      "id": "577dcc6f-dec2-4289-bbac-788cc6421ec7",
      "cell_type": "markdown",
      "source": "Si yo quiero expresar mi resultado en fracción:",
      "metadata": {}
    },
    {
      "id": "7246b3da-ee71-4d1d-842c-db03540a1f51",
      "cell_type": "code",
      "source": "from fractions import Fraction\ndef p(E,Omega):\n    p = Fraction(len(E),len(Omega))\n    return p",
      "metadata": {},
      "outputs": [],
      "execution_count": 37
    },
    {
      "id": "862d8fa7-72cf-4261-a3f9-ce4687f96a54",
      "cell_type": "code",
      "source": "proba_A = p(A,Omega)\nproba_A",
      "metadata": {},
      "outputs": [
        {
          "data": {
            "text/plain": [
              "Fraction(1, 8)"
            ]
          },
          "execution_count": 38,
          "metadata": {},
          "output_type": "execute_result"
        }
      ],
      "execution_count": 38
    },
    {
      "id": "19c22f70-01b7-45ed-8009-9388d027cf98",
      "cell_type": "markdown",
      "source": "## Probabilidad condicional",
      "metadata": {}
    },
    {
      "id": "6af62758-7164-47f1-9a9c-dda7e109f10e",
      "cell_type": "markdown",
      "source": "Si añadimos condiciones a nuestro experimento en cuestión, la probabilidad cambia. \n\nDefinimos la probabilidad de que ocurra un evento $A$ **sabiendo** que ocurre un evento $B$,\n$$ \\mathbb{P}(A \\mid B) = \\frac{\\mathbb{P}(A \\cap B)}{\\mathbb{P}(B)} = \\frac{|A\\cap B|}{|B|}$$\ndonde $\\mathbb{P}(B)>0$.\n",
      "metadata": {}
    },
    {
      "id": "d7db7be9-4787-4b58-ab64-c0dcd62aee20",
      "cell_type": "code",
      "source": "# Vamos a definir la función para la proba condicional\n\ndef prob_cond(E,F):\n    return len(E & F) / len(F)",
      "metadata": {},
      "outputs": [],
      "execution_count": 39
    },
    {
      "id": "39728562-fb09-41fc-9a2b-b9c93f066ad2",
      "cell_type": "markdown",
      "source": "Quiero calcular la probabilidad condicional de los siguientes eventos:\n\n- B: El primer lanzamiento es águila\n- C: Dos de los resultados son águila (exactamente)",
      "metadata": {}
    },
    {
      "id": "006d09ee-b71e-4cf1-b065-4ac32966f4eb",
      "cell_type": "code",
      "source": "# El primer lanzamiento es águila\nB = {om for om in Omega if om[0]==\"A\"}\nB",
      "metadata": {},
      "outputs": [
        {
          "data": {
            "text/plain": [
              "{('A', 'A', 'A'), ('A', 'A', 'S'), ('A', 'S', 'A'), ('A', 'S', 'S')}"
            ]
          },
          "execution_count": 40,
          "metadata": {},
          "output_type": "execute_result"
        }
      ],
      "execution_count": 40
    },
    {
      "id": "0e2493fa-1ae6-4949-9d64-5da8a7314652",
      "cell_type": "code",
      "source": "# Dos de los resultados son águila \nC = {om for om in Omega if om.count(\"A\")==2}\nC",
      "metadata": {},
      "outputs": [
        {
          "data": {
            "text/plain": [
              "{('A', 'A', 'S'), ('A', 'S', 'A'), ('S', 'A', 'A')}"
            ]
          },
          "execution_count": 41,
          "metadata": {},
          "output_type": "execute_result"
        }
      ],
      "execution_count": 41
    },
    {
      "id": "1f5ae4e8-d870-4aaa-89ec-d8236008a90a",
      "cell_type": "code",
      "source": "prob_cond(B,C)",
      "metadata": {},
      "outputs": [
        {
          "data": {
            "text/plain": [
              "0.6666666666666666"
            ]
          },
          "execution_count": 42,
          "metadata": {},
          "output_type": "execute_result"
        }
      ],
      "execution_count": 42
    },
    {
      "id": "1ac69834-364d-4239-aecf-c9e1310ed675",
      "cell_type": "markdown",
      "source": "## Independencia de eventos \n\nDecimos que dos eventos $A$ y $B$ son independientes si\n$$ \\mathbb{P}(A\\cap B) = \\mathbb{P}(A)\\mathbb{P}(B)$$\no de manera equivalente \n$$ \\mathbb{P}(A \\mid B) \\mathbb{P}(A) $$",
      "metadata": {}
    },
    {
      "id": "2f8c3837-9f58-4734-b74e-789d2b774ff6",
      "cell_type": "code",
      "source": "def prob(E):\n    return len(E) / len(Omega)",
      "metadata": {},
      "outputs": [],
      "execution_count": 43
    },
    {
      "id": "acafcf17-dbfc-4fde-a2a9-c139a97f587c",
      "cell_type": "code",
      "source": "def indep(E,F):\n    return prob(E & F) == prob(E)*prob(F)",
      "metadata": {},
      "outputs": [],
      "execution_count": 44
    },
    {
      "id": "8e4034ef-80da-45af-97de-1909440d01f1",
      "cell_type": "code",
      "source": "indep(B,C)",
      "metadata": {},
      "outputs": [
        {
          "data": {
            "text/plain": [
              "False"
            ]
          },
          "execution_count": 45,
          "metadata": {},
          "output_type": "execute_result"
        }
      ],
      "execution_count": 45
    },
    {
      "id": "03fff0ed-10ed-4d77-8add-591120c9bb2e",
      "cell_type": "markdown",
      "source": "**Ejercicio** Calcular las probabilidades faltantes\n- $S$: todos los resultados son soles\n- $E$: por lo menos un resultado es sol",
      "metadata": {}
    },
    {
      "id": "396464ad-8467-4816-b2de-b7407e31a596",
      "cell_type": "code",
      "source": "# Espacio muestral con 3 lanzamientos\nfrom itertools import product\n",
      "metadata": {},
      "outputs": [],
      "execution_count": 1
    },
    {
      "id": "1007acf4-7dd9-411a-93c4-a0f0d038b52f",
      "cell_type": "code",
      "source": "Omega = set(product([\"A\",\"S\"], repeat=3))",
      "metadata": {},
      "outputs": [],
      "execution_count": 2
    },
    {
      "id": "1c482c00-bd21-44fb-93ce-a76ebcf84fe9",
      "cell_type": "code",
      "source": "# Eventos\nS = {om for om in Omega if om == (\"S\",\"S\",\"S\")}                  # Todos soles\nE = {om for om in Omega if \"S\" in om}                            # Al menos un sol",
      "metadata": {},
      "outputs": [],
      "execution_count": 3
    },
    {
      "id": "0ee55411-5e4c-4c92-a7d7-d40b31fd5aaa",
      "cell_type": "code",
      "source": "# Funciones de probabilidad\ndef prob(E):\n    return len(E)/len(Omega)\n\ndef prob_cond(A,B):\n    return len(A & B)/len(B)",
      "metadata": {},
      "outputs": [],
      "execution_count": 4
    },
    {
      "id": "3569bad6-af23-4daf-b5a8-17b7b9c2b983",
      "cell_type": "code",
      "source": "# Resultados\nprint(\"P(S) =\", prob(S))\nprint(\"P(E) =\", prob(E))\nprint(\"P(S | E) =\", prob_cond(S,E))\nprint(\"P(E | S) =\", prob_cond(E,S))",
      "metadata": {},
      "outputs": [
        {
          "name": "stdout",
          "output_type": "stream",
          "text": "P(S) = 0.125\n,P(E) = 0.875\n,P(S | E) = 0.14285714285714285\n,P(E | S) = 1.0\n"
        }
      ],
      "execution_count": 5
    },
    {
      "id": "b9fffb1d-fd7a-4da6-8f54-5a9e00204120",
      "cell_type": "code",
      "source": "",
      "metadata": {},
      "outputs": [],
      "execution_count": null
    }
  ]
}